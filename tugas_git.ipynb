{
 "cells": [
  {
   "cell_type": "code",
   "execution_count": 14,
   "metadata": {},
   "outputs": [
    {
     "name": "stdout",
     "output_type": "stream",
     "text": [
      "Lokasi: Kebun A\n",
      "  Padi: 1200\n",
      "  Jagung: 800\n",
      "  Kedelai: 500\n",
      "\n",
      "Lokasi: Kebun B\n",
      "  Padi: 1500\n",
      "  Jagung: 900\n",
      "  Kedelai: 450\n",
      "\n",
      "Lokasi: Kebun C\n",
      "  Padi: 1100\n",
      "  Jagung: 750\n",
      "  Kedelai: 600\n",
      "\n",
      "Lokasi: Kebun D\n",
      "  Padi: 1300\n",
      "  Jagung: 850\n",
      "  Kedelai: 550\n",
      "\n",
      "Lokasi: Kebun E\n",
      "  Padi: 1400\n",
      "  Jagung: 950\n",
      "  Kedelai: 480\n",
      "\n"
     ]
    }
   ],
   "source": [
    "data_panen = {\n",
    "    'lokasi1': {\n",
    "        'nama_lokasi': 'Kebun A',\n",
    "        'hasil_panen': {\n",
    "            'padi': 1200,\n",
    "            'jagung': 800,\n",
    "            'kedelai': 500\n",
    "        }\n",
    "    },\n",
    "    'lokasi2': {\n",
    "        'nama_lokasi': 'Kebun B',\n",
    "        'hasil_panen': {\n",
    "            'padi': 1500,\n",
    "            'jagung': 900,\n",
    "            'kedelai': 450\n",
    "        }\n",
    "    },\n",
    "    'lokasi3': {\n",
    "        'nama_lokasi': 'Kebun C',\n",
    "        'hasil_panen': {\n",
    "            'padi': 1100,\n",
    "            'jagung': 750,\n",
    "            'kedelai': 600\n",
    "        }\n",
    "    },\n",
    "    'lokasi4': {\n",
    "        'nama_lokasi': 'Kebun D',\n",
    "        'hasil_panen': {\n",
    "            'padi': 1300,\n",
    "            'jagung': 850,\n",
    "            'kedelai': 550\n",
    "        }\n",
    "    },\n",
    "    'lokasi5': {\n",
    "        'nama_lokasi': 'Kebun E',\n",
    "        'hasil_panen': {\n",
    "            'padi': 1400,\n",
    "            'jagung': 950,\n",
    "            'kedelai': 480\n",
    "        }\n",
    "    }\n",
    "}\n",
    "for lokasi, data in data_panen.items():\n",
    "    print(f\"Lokasi: {data['nama_lokasi']}\")\n",
    "    for komoditas, hasil in data['hasil_panen'].items():\n",
    "        print(f\"  {komoditas.capitalize()}: {hasil}\")\n",
    "    print()  "
   ]
  },
  {
   "cell_type": "code",
   "execution_count": 15,
   "metadata": {},
   "outputs": [
    {
     "name": "stdout",
     "output_type": "stream",
     "text": [
      "Hasil panen jagung dari Lokasi2: 900\n"
     ]
    }
   ],
   "source": [
    "hasil_jagung_lokasi2 = data_panen['lokasi2']['hasil_panen']['jagung']\n",
    "print(f\"Hasil panen jagung dari Lokasi2: {hasil_jagung_lokasi2}\")\n"
   ]
  },
  {
   "cell_type": "code",
   "execution_count": 16,
   "metadata": {},
   "outputs": [
    {
     "name": "stdout",
     "output_type": "stream",
     "text": [
      "Nama lokasi dari Lokasi3: Kebun C\n"
     ]
    }
   ],
   "source": [
    "nama_lokasi3 = data_panen['lokasi3']['nama_lokasi']\n",
    "print(f\"Nama lokasi dari Lokasi3: {nama_lokasi3}\")\n"
   ]
  },
  {
   "cell_type": "code",
   "execution_count": 17,
   "metadata": {},
   "outputs": [
    {
     "name": "stdout",
     "output_type": "stream",
     "text": [
      "Hasil Padi per Lokasi: {'lokasi1': 1200, 'lokasi2': 1500, 'lokasi3': 1100, 'lokasi4': 1300, 'lokasi5': 1400}\n",
      "Hasil Kedelai per Lokasi: {'lokasi1': 500, 'lokasi2': 450, 'lokasi3': 600, 'lokasi4': 550, 'lokasi5': 480}\n"
     ]
    }
   ],
   "source": [
    "hasil_padi = {lokasi: data['hasil_panen']['padi'] for lokasi, data in data_panen.items()}\n",
    "hasil_kedelai = {lokasi: data['hasil_panen']['kedelai'] for lokasi, data in data_panen.items()}\n",
    "\n",
    "print(\"Hasil Padi per Lokasi:\", hasil_padi)\n",
    "print(\"Hasil Kedelai per Lokasi:\", hasil_kedelai)\n"
   ]
  },
  {
   "cell_type": "code",
   "execution_count": 18,
   "metadata": {},
   "outputs": [],
   "source": [
    "# Sudah dilakukan di langkah 4 dengan variabel `hasil_padi` dan `hasil_kedelai`.\n"
   ]
  },
  {
   "cell_type": "code",
   "execution_count": 19,
   "metadata": {},
   "outputs": [
    {
     "name": "stdout",
     "output_type": "stream",
     "text": [
      "Kebun A Dalam Kondisi Baik.\n",
      "Kebun B Memerlukan Perhatian Khusus.\n",
      "Kebun C Dalam Kondisi Baik.\n",
      "Kebun D Memerlukan Perhatian Khusus.\n",
      "Kebun E Memerlukan Perhatian Khusus.\n"
     ]
    }
   ],
   "source": [
    "for lokasi, data in data_panen.items():\n",
    "    padi = data['hasil_panen']['padi']\n",
    "    jagung = data['hasil_panen']['jagung']\n",
    "    \n",
    "    if padi > 1300 or jagung > 800:\n",
    "        print(f\"{data['nama_lokasi']} Memerlukan Perhatian Khusus.\")\n",
    "    else:\n",
    "        print(f\"{data['nama_lokasi']} Dalam Kondisi Baik.\")\n"
   ]
  }
 ],
 "metadata": {
  "kernelspec": {
   "display_name": "Python 3",
   "language": "python",
   "name": "python3"
  },
  "language_info": {
   "codemirror_mode": {
    "name": "ipython",
    "version": 3
   },
   "file_extension": ".py",
   "mimetype": "text/x-python",
   "name": "python",
   "nbconvert_exporter": "python",
   "pygments_lexer": "ipython3",
   "version": "3.12.8"
  }
 },
 "nbformat": 4,
 "nbformat_minor": 2
}
